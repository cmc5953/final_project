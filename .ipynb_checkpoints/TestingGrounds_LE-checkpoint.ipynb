{
 "cells": [
  {
   "cell_type": "markdown",
   "metadata": {},
   "source": [
    "<font size=6>The Billboard Hot 100<br><font size=3 color=lightgrey> by Chris Cherewka, Shashank Sheth and Warren Elson</font>\n",
    "---"
   ]
  },
  {
   "cell_type": "code",
   "execution_count": 338,
   "metadata": {},
   "outputs": [],
   "source": [
    "# import sys\n",
    "# !{sys.executable} -m pip install spotipy"
   ]
  },
  {
   "cell_type": "code",
   "execution_count": 334,
   "metadata": {},
   "outputs": [],
   "source": [
    "import spotipy \n",
    "from spotipy.oauth2 import SpotifyClientCredentials\n",
    "import matplotlib.pyplot as plt\n",
    "import pandas as pd \n",
    "import numpy as np\n",
    "import warnings\n",
    "import math\n",
    "import time\n",
    "warnings.simplefilter(\"ignore\")"
   ]
  },
  {
   "cell_type": "code",
   "execution_count": 335,
   "metadata": {},
   "outputs": [],
   "source": [
    "sp = spotipy.Spotify()\n",
    "\n",
    "USER_ID = \"emilyrlandman\"\n",
    "TOP10_PLAYLIST_ID = \"1ggWDL88pSeijtf7zifvF1\"\n",
    "ALBUMS_PLAYLIST_ID = \"5YVVRDq8QLSB2wJ2lvq3Dx\"\n",
    "CLIENT_ID = \"27a2df6fdb064b40b952dbe55f451421\" \n",
    "CLIENT_SECRET = \"a97bf4bf619b4239961eb80513e2c0e0\" \n",
    "CLIENT_CREDENTIALS = SpotifyClientCredentials(client_id=CLIENT_ID, client_secret=CLIENT_SECRET) \n",
    "\n",
    "sp = spotipy.Spotify(client_credentials_manager=CLIENT_CREDENTIALS) \n",
    "sp.trace=False"
   ]
  },
  {
   "cell_type": "markdown",
   "metadata": {},
   "source": [
    "---\n",
    "## Extract & Transform"
   ]
  },
  {
   "cell_type": "code",
   "execution_count": 336,
   "metadata": {},
   "outputs": [
    {
     "name": "stdout",
     "output_type": "stream",
     "text": [
      "Compiling songs 1 through 100 of 200\n",
      "Compiling songs 101 through 200 of 200\n",
      "---------------------------------------- \n",
      "Complete\n"
     ]
    }
   ],
   "source": [
    "# First we have to gather the total number of tracks in the playlist \n",
    "track_count = sp.user_playlist_tracks(USER_ID, TOP10_PLAYLIST_ID, 'total')['total']\n",
    "\n",
    "# Then we calculate the number of times we'll have to call the API\n",
    "iterations = math.ceil(track_count/100)\n",
    "\n",
    "# Finally we begin our loop\n",
    "attributes_df = pd.DataFrame()\n",
    "information_df = pd.DataFrame()\n",
    "for i in range(iterations):\n",
    "    a = (i*100)+1\n",
    "    z = (i+1)*100\n",
    "    print(f\"Compiling songs {a} through {z if z < track_count else track_count} of {track_count}\")\n",
    "    playlist = sp.user_playlist_tracks(USER_ID, TOP10_PLAYLIST_ID, None, None, i*100) # documentation - https://spotipy.readthedocs.io/en/2.13.0/\n",
    "    songs = playlist[\"items\"]\n",
    "\n",
    "    track_ids = []\n",
    "    track_names = []\n",
    "    track_popularities = []\n",
    "    track_explicit = []\n",
    "    artist_ids = []\n",
    "    artist_names = []\n",
    "    artist_popularities = []\n",
    "    artist_followers = []\n",
    "    artist_genres = []\n",
    "    \n",
    "    for j in range(len(songs)): \n",
    "        track_ids.append(songs[j][\"track\"][\"id\"])\n",
    "        track_names.append(songs[j][\"track\"][\"name\"])\n",
    "        track_popularities.append(songs[j][\"track\"][\"popularity\"])\n",
    "        track_explicit.append(songs[j][\"track\"][\"explicit\"])\n",
    "        artist_names.append(songs[j][\"track\"][\"artists\"][0][\"name\"])\n",
    "        \n",
    "        artist_id = songs[j][\"track\"][\"artists\"][0][\"id\"]\n",
    "        artist_ids.append(artist_id)\n",
    "        artist = sp.artist(artist_id)\n",
    "        artist_popularities.append(artist['popularity'])\n",
    "        artist_followers.append(artist['followers']['total'])\n",
    "        artist_genres.append(artist['genres'])\n",
    "\n",
    "        \n",
    "    features = sp.audio_features(track_ids)\n",
    "    att_df = pd.DataFrame(features)\n",
    "    info_df = pd.DataFrame({\"song_id\":track_ids, \n",
    "                            \"song_name\":track_names, \n",
    "                            \"song_popularity\":track_popularities,\n",
    "                            \"explicit\":track_explicit,\n",
    "                            \"artist_id\":artist_ids, \n",
    "                            \"artist\": artist_names, \n",
    "                            \"artist popularity\": artist_popularities,\n",
    "                            \"artist followers\": artist_followers,\n",
    "                            \"genre\": artist_genres})\n",
    "    \n",
    "    attributes_df = attributes_df.append(att_df, ignore_index=True)\n",
    "    information_df = information_df.append(info_df, ignore_index=True)\n",
    "#     time.sleep(1) # incase this is necessary on larger playlists\n",
    "\n",
    "TOP_df = information_df.merge(attributes_df, left_on=\"song_id\", right_on=\"id\")\n",
    "TOP_df[\"top_10\"] = 1\n",
    "print(\"-\"*40,\"\\nComplete\")\n",
    "# TOP_df"
   ]
  },
  {
   "cell_type": "code",
   "execution_count": 42,
   "metadata": {},
   "outputs": [
    {
     "name": "stdout",
     "output_type": "stream",
     "text": [
      "Compiling songs 1 through 100 of 2330\n",
      "Compiling songs 101 through 200 of 2330\n",
      "Compiling songs 201 through 300 of 2330\n",
      "Compiling songs 301 through 400 of 2330\n",
      "Compiling songs 401 through 500 of 2330\n",
      "Compiling songs 501 through 600 of 2330\n",
      "Compiling songs 601 through 700 of 2330\n",
      "Compiling songs 701 through 800 of 2330\n",
      "Compiling songs 801 through 900 of 2330\n",
      "Compiling songs 901 through 1000 of 2330\n",
      "Compiling songs 1001 through 1100 of 2330\n",
      "Compiling songs 1101 through 1200 of 2330\n",
      "Compiling songs 1201 through 1300 of 2330\n",
      "Compiling songs 1301 through 1400 of 2330\n",
      "Compiling songs 1401 through 1500 of 2330\n",
      "Compiling songs 1501 through 1600 of 2330\n",
      "Compiling songs 1601 through 1700 of 2330\n",
      "Compiling songs 1701 through 1800 of 2330\n",
      "Compiling songs 1801 through 1900 of 2330\n",
      "Compiling songs 1901 through 2000 of 2330\n",
      "Compiling songs 2001 through 2100 of 2330\n",
      "Compiling songs 2101 through 2200 of 2330\n",
      "Compiling songs 2201 through 2300 of 2330\n",
      "Compiling songs 2301 through 2400 of 2330\n",
      "---------------------------------------- \n",
      "Complete\n"
     ]
    }
   ],
   "source": [
    "# And again...\n",
    "track_count = sp.user_playlist_tracks(USER_ID, ALBUMS_PLAYLIST_ID, 'total')['total']\n",
    "iterations = math.ceil(track_count/100)\n",
    "attributes_df = pd.DataFrame()\n",
    "information_df = pd.DataFrame()\n",
    "\n",
    "for i in range(iterations):\n",
    "    a = (i*100)+1\n",
    "    z = (i+1)*100\n",
    "    print(f\"Compiling songs {a} through {z if z < track_count else track_count} of {track_count}\")\n",
    "    playlist = sp.user_playlist_tracks(USER_ID, ALBUMS_PLAYLIST_ID, None, None, i*100) # documentation - https://spotipy.readthedocs.io/en/2.13.0/\n",
    "    songs = playlist[\"items\"]\n",
    "\n",
    "    track_ids = []\n",
    "    track_names = []\n",
    "    track_popularities = []\n",
    "    track_explicit = []\n",
    "    artist_ids = []\n",
    "    artist_names = []\n",
    "    artist_popularities = []\n",
    "    artist_followers = []\n",
    "    artist_genres = []\n",
    "    \n",
    "    for j in range(len(songs)): \n",
    "        track_ids.append(songs[j][\"track\"][\"id\"])\n",
    "        track_names.append(songs[j][\"track\"][\"name\"])\n",
    "        track_popularities.append(songs[j][\"track\"][\"popularity\"])\n",
    "        track_explicit.append(songs[j][\"track\"][\"explicit\"])\n",
    "        artist_names.append(songs[j][\"track\"][\"artists\"][0][\"name\"])\n",
    "        \n",
    "        artist_id = songs[j][\"track\"][\"artists\"][0][\"id\"]\n",
    "        artist_ids.append(artist_id)\n",
    "        artist = sp.artist(artist_id)\n",
    "        artist_popularities.append(artist['popularity'])\n",
    "        artist_followers.append(artist['followers']['total'])\n",
    "        artist_genres.append(artist['genres'])\n",
    "\n",
    "        \n",
    "    features = sp.audio_features(track_ids)\n",
    "    att_df = pd.DataFrame(features)\n",
    "    info_df = pd.DataFrame({\"song_id\":track_ids, \n",
    "                            \"song_name\":track_names, \n",
    "                            \"song_popularity\":track_popularities,\n",
    "                            \"explicit\":track_explicit,\n",
    "                            \"artist_id\":artist_ids, \n",
    "                            \"artist\": artist_names, \n",
    "                            \"artist popularity\": artist_popularities,\n",
    "                            \"artist followers\": artist_followers,\n",
    "                            \"genre\": artist_genres})\n",
    "    \n",
    "    attributes_df = attributes_df.append(att_df, ignore_index=True)\n",
    "    information_df = information_df.append(info_df, ignore_index=True)\n",
    "#     time.sleep(1) # incase this is necessary on larger playlists\n",
    "\n",
    "ALBUMS_df = information_df.merge(attributes_df, left_on=\"song_id\", right_on=\"id\")\n",
    "ALBUMS_df[\"top_10\"] = 0\n",
    "print(\"-\"*40,\"\\nComplete\")\n",
    "# ALBUMS_df"
   ]
  },
  {
   "cell_type": "code",
   "execution_count": 14,
   "metadata": {},
   "outputs": [],
   "source": [
    "# Append our Album tracks to our Top 10 tracks\n",
    "FULL_df = TOP_df.append(ALBUMS_df, ignore_index=True)\n",
    "# Drop the Top tracks which were in the Albums dataframe (should drop exactly 200)\n",
    "FULL_df.drop_duplicates([\"song_id\"], inplace=True)\n",
    "# Reset the index\n",
    "FULL_df.reset_index(inplace=True, drop=True)\n",
    "\n",
    "# Encode Strings in \"Artist Column\"\n",
    "from sklearn.preprocessing import LabelEncoder\n",
    "encode = LabelEncoder()\n",
    "FULL_df['artist_id'] = encode.fit_transform(FULL_df['artist_id'])\n",
    "\n",
    "#FULL_df"
   ]
  },
  {
   "cell_type": "code",
   "execution_count": 337,
   "metadata": {},
   "outputs": [],
   "source": [
    "# Let's take a look at what genres appear the most\n",
    "# allGenres = FULL_df[\"genre\"].explode()\n",
    "# allGenres.value_counts().to_csv(\"genre_count.csv\")\n",
    "# allGenres.value_counts().head(50)"
   ]
  },
  {
   "cell_type": "code",
   "execution_count": 16,
   "metadata": {},
   "outputs": [],
   "source": [
    "#Adding columns for the most common genres and grouping in their subgenres\n",
    "\n",
    "pop = [0]*len(FULL_df.index)\n",
    "rap = [0]*len(FULL_df.index)\n",
    "rnb = [0]*len(FULL_df.index)\n",
    "edm = [0]*len(FULL_df.index)\n",
    "rock = [0]*len(FULL_df.index)\n",
    "latin = [0]*len(FULL_df.index)\n",
    "hiphop = [0]*len(FULL_df.index)\n",
    "mellow = [0]*len(FULL_df.index)\n",
    "country = [0]*len(FULL_df.index)\n",
    "\n",
    "for i in range(len(FULL_df[\"genre\"])):\n",
    "    for item in FULL_df[\"genre\"][i]:\n",
    "\n",
    "        if ((\"edm\" in item) or \n",
    "            (\"dance\" in item) or \n",
    "            (\"vapor\" in item) or \n",
    "            (\"techno\" in item) or \n",
    "            (\"electro\" in item) or \n",
    "            (\"brostep\" in item) or \n",
    "            (\"complextro\" in item))\\\n",
    "        and ((\"dancehall\" not in item) and\n",
    "             (\"dance pop\" not in item)):\n",
    "            edm[i]=1\n",
    "            \n",
    "        if ((\"rock\" in item) or \n",
    "            (\"punk\" in item) or\n",
    "            (\"metal\" in item) or\n",
    "            (\"indie\" in item) or\n",
    "            (\"grunge\" in item) or\n",
    "            (\"baroque\" in item) or\n",
    "            (\"permanent wave\" in item)):\n",
    "            rock[i]=1\n",
    "\n",
    "        if (\"pop\" in item)\\\n",
    "        and ((\"punk\" not in item) and \n",
    "             (\"rock\" not in item) and \n",
    "             (\"baroque\" not in item) and \n",
    "             (\"dance pop\" not in item) and \n",
    "             (\"indie poptimism\" not in item)):\n",
    "            pop[i]=1\n",
    "            \n",
    "        if ((\"hip\" in item) or \n",
    "            (\"hop\" in item) or \n",
    "            (\"dancehall\" in item) or \n",
    "            (\"new jack swing\" in item)):\n",
    "            hiphop[i]=1\n",
    "            \n",
    "        if ((\"r&b\"in item) or\n",
    "            (\"soul\"in item) or\n",
    "            (\"motown\"in item) or\n",
    "            (\"quiet storm\" in item)):\n",
    "            rnb[i]=1\n",
    "\n",
    "        if ((\"rap\" in item) or \n",
    "            (\"urban\" in item))\\\n",
    "        and (\"vapor\" not in item):\n",
    "            rap[i]=1\n",
    "            \n",
    "        if ((\"country\"in item) or\n",
    "            (\"lilith\" in item)):\n",
    "            country[i]=1\n",
    "\n",
    "        if \"mellow\" in item:\n",
    "            mellow[i]=1\n",
    "            \n",
    "        if \"latin\" in item:\n",
    "            latin[i]=1\n",
    "\n",
    "# In order of most appearing (done in excel)   \n",
    "FULL_df[\"pop\"] = pop\n",
    "FULL_df[\"rap\"] = rap\n",
    "FULL_df[\"hiphop\"] = hiphop\n",
    "FULL_df[\"rock\"] = rock\n",
    "FULL_df[\"rnb\"] = rnb\n",
    "FULL_df[\"country\"] = country\n",
    "FULL_df[\"mellow\"] = mellow\n",
    "FULL_df[\"edm\"] = edm\n",
    "FULL_df[\"latin\"] = latin\n",
    "FULL_df.head(3)"
   ]
  },
  {
   "cell_type": "markdown",
   "metadata": {},
   "source": [
    "---\n",
    "# The Top 10 Songs of the 2000's - <font color=teal>Prediction"
   ]
  },
  {
   "cell_type": "code",
   "execution_count": 408,
   "metadata": {},
   "outputs": [
    {
     "name": "stdout",
     "output_type": "stream",
     "text": [
      "Data: (2330, 27) | Target: (2330,)\n"
     ]
    }
   ],
   "source": [
    "# Assign X (data matrix) and y (target)\n",
    "X = FULL_df.drop(['song_id', 'song_name', 'artist', 'genre', \n",
    "                  'type', 'id', 'uri', 'track_href', 'analysis_url',\n",
    "                  'top_10'], axis=1)\n",
    "# X = X.drop(['artist popularity', 'artist followers'], axis=1)\n",
    "# X = X.drop(['song_popularity'], axis=1)\n",
    "y = FULL_df['top_10']\n",
    "print(f\"Data: {X.shape} | Target: {y.shape}\")\n",
    "\n",
    "# Name our negatives and positives\n",
    "target_names = [\"Average Songs\", \"Top 10 Hits\"]\n",
    "\n",
    "# Select a random state for Notebook\n",
    "rs = 42\n",
    "\n",
    "#Split data into training (75%) and testing (25%) subsets\n",
    "from sklearn.model_selection import train_test_split\n",
    "X_train, X_test, y_train, y_test = train_test_split(X, y, random_state=rs, stratify=y) # stratify for imbalanced data"
   ]
  },
  {
   "cell_type": "markdown",
   "metadata": {},
   "source": [
    "### <font color=grey>~~Logistic Regression~~</font>"
   ]
  },
  {
   "cell_type": "code",
   "execution_count": 375,
   "metadata": {},
   "outputs": [
    {
     "name": "stdout",
     "output_type": "stream",
     "text": [
      "Training Data Score: 0.6697195191757298\n",
      "Testing Data Score: 0.6586620926243568\n",
      "\n",
      "               precision    recall  f1-score   support\n",
      "\n",
      "Average Songs       0.91      0.70      0.79       533\n",
      "  Top 10 Hits       0.07      0.26      0.12        50\n",
      "\n",
      "     accuracy                           0.66       583\n",
      "    macro avg       0.49      0.48      0.45       583\n",
      " weighted avg       0.84      0.66      0.73       583\n",
      "\n"
     ]
    },
    {
     "data": {
      "image/png": "[encoded data removed]",
      "text/plain": [
       "<Figure size 432x288 with 2 Axes>"
      ]
     },
     "metadata": {
      "needs_background": "light"
     },
     "output_type": "display_data"
    }
   ],
   "source": [
    "# #create model\n",
    "# from sklearn.linear_model import LogisticRegression\n",
    "# classifier = LogisticRegression(class_weight = 'balanced')\n",
    "\n",
    "# #train model\n",
    "# classifier.fit(X_train, y_train)\n",
    "\n",
    "# #test model\n",
    "# print(f\"Training Data Score: {classifier.score(X_train, y_train)}\")\n",
    "# print(f\"Testing Data Score: {classifier.score(X_test, y_test)}\\n\")\n",
    "\n",
    "# # Calculate classification report\n",
    "\n",
    "# from sklearn.metrics import classification_report\n",
    "# predictions = classifier.predict(X_test)\n",
    "# print(classification_report(y_test, predictions, target_names=target_names))\n",
    "\n",
    "# from sklearn.metrics import plot_confusion_matrix\n",
    "# plot_confusion_matrix(classifier, X_test, y_test, cmap=plt.cm.Blues, display_labels=target_names)\n",
    "# plt.show()"
   ]
  },
  {
   "cell_type": "markdown",
   "metadata": {},
   "source": [
    "### Decision Tree"
   ]
  },
  {
   "cell_type": "code",
   "execution_count": 376,
   "metadata": {},
   "outputs": [
    {
     "name": "stdout",
     "output_type": "stream",
     "text": [
      "Training Data Score: 1.0\n",
      "Testing Data Score: 0.899\n",
      "\n",
      "               precision    recall  f1-score   support\n",
      "\n",
      "Average Songs       0.94      0.95      0.94       533\n",
      "  Top 10 Hits       0.40      0.38      0.39        50\n",
      "\n",
      "     accuracy                           0.90       583\n",
      "    macro avg       0.67      0.66      0.67       583\n",
      " weighted avg       0.90      0.90      0.90       583\n",
      "\n"
     ]
    },
    {
     "data": {
      "image/png": "[encoded data removed]",
      "text/plain": [
       "<Figure size 432x288 with 2 Axes>"
      ]
     },
     "metadata": {
      "needs_background": "light"
     },
     "output_type": "display_data"
    }
   ],
   "source": [
    "from sklearn import tree\n",
    "clf = tree.DecisionTreeClassifier(class_weight = 'balanced')\n",
    "\n",
    "#train model\n",
    "clf = clf.fit(X_train, y_train)\n",
    "\n",
    "#test model\n",
    "print(f\"Training Data Score: {clf.score(X_train, y_train)}\")\n",
    "print(f\"Testing Data Score: {round(clf.score(X_test, y_test),3)}\\n\")\n",
    "\n",
    "from sklearn.metrics import classification_report\n",
    "predictions = clf.predict(X_test)\n",
    "print(classification_report(y_test, predictions, target_names=target_names))\n",
    "\n",
    "plot_confusion_matrix(clf, X_test, y_test, cmap=plt.cm.Blues, display_labels=target_names)\n",
    "plt.show()\n",
    "\n",
    "# feature_names = X.columns\n",
    "# sorted(zip(clf.feature_importances_, feature_names), reverse=True)[:10]"
   ]
  },
  {
   "cell_type": "markdown",
   "metadata": {},
   "source": [
    "### Random Forest"
   ]
  },
  {
   "cell_type": "code",
   "execution_count": 369,
   "metadata": {},
   "outputs": [
    {
     "name": "stdout",
     "output_type": "stream",
     "text": [
      "Training Data Score: 1.0\n",
      "Testing Data Score: 0.925\n",
      "\n",
      "              precision    recall  f1-score   support\n",
      "\n",
      "    negative       0.93      1.00      0.96       533\n",
      "    positive       0.88      0.14      0.24        50\n",
      "\n",
      "    accuracy                           0.92       583\n",
      "   macro avg       0.90      0.57      0.60       583\n",
      "weighted avg       0.92      0.92      0.90       583\n",
      "\n"
     ]
    },
    {
     "data": {
      "image/png": "[encoded data removed]",
      "text/plain": [
       "<Figure size 432x288 with 2 Axes>"
      ]
     },
     "metadata": {
      "needs_background": "light"
     },
     "output_type": "display_data"
    }
   ],
   "source": [
    "from sklearn.ensemble import RandomForestClassifier\n",
    "rf = RandomForestClassifier(n_estimators=1000)\n",
    "\n",
    "#train model\n",
    "rf = rf.fit(X_train, y_train)\n",
    "\n",
    "#test model\n",
    "print(f\"Training Data Score: {rf.score(X_train, y_train)}\")\n",
    "print(f\"Testing Data Score: {round(rf.score(X_test, y_test),3)}\\n\")\n",
    "\n",
    "predictions = rf.predict(X_test)\n",
    "print(classification_report(y_test, predictions, target_names=target_names))\n",
    "\n",
    "plot_confusion_matrix(rf, X_test, y_test, cmap=plt.cm.Blues, display_labels=target_names)\n",
    "plt.show()\n",
    "\n",
    "# feature_names = X.columns\n",
    "# sorted(zip(rf.feature_importances_, feature_names), reverse=True)[:10]"
   ]
  },
  {
   "cell_type": "markdown",
   "metadata": {},
   "source": [
    "### <font color=grey>~~k-Nearest Neighbors (kNN)~~</font>"
   ]
  },
  {
   "cell_type": "code",
   "execution_count": 377,
   "metadata": {},
   "outputs": [],
   "source": [
    "# # PART 1\n",
    "\n",
    "# from sklearn.neighbors import KNeighborsClassifier\n",
    "# from sklearn.preprocessing import StandardScaler\n",
    "\n",
    "# # Create a StandardScaler model and fit it to the training data\n",
    "# X_scaler = StandardScaler().fit(X_train)\n",
    "\n",
    "# # Transform the training and testing data using the X_scaler and y_scaler models\n",
    "# X_train_scaled = X_scaler.transform(X_train)\n",
    "# X_test_scaled = X_scaler.transform(X_test)\n",
    "\n",
    "# # Loop through different k values to see which has the highest accuracy\n",
    "# train_scores = []\n",
    "# test_scores = []\n",
    "# for k in range(1, 20, 2):\n",
    "#     knn = KNeighborsClassifier(n_neighbors=k)\n",
    "#     knn.fit(X_train_scaled, y_train)\n",
    "#     train_score = knn.score(X_train_scaled, y_train)\n",
    "#     test_score = knn.score(X_test_scaled, y_test)\n",
    "#     train_scores.append(train_score)\n",
    "#     test_scores.append(test_score)\n",
    "#     print(f\"k: {k}, Train/Test Score: {train_score:.3f}/{test_score:.3f}\")\n",
    "    \n",
    "    \n",
    "# plt.plot(range(1, 20, 2), train_scores, marker='o')\n",
    "# plt.plot(range(1, 20, 2), test_scores, marker=\"x\")\n",
    "# plt.xlabel(\"k neighbors\")\n",
    "# plt.ylabel(\"Testing accuracy Score\")\n",
    "# plt.show()"
   ]
  },
  {
   "cell_type": "code",
   "execution_count": 378,
   "metadata": {},
   "outputs": [],
   "source": [
    "# # PART 2\n",
    "\n",
    "# # Note that k: 5 seems to be the best choice for this dataset\n",
    "# knn = KNeighborsClassifier(n_neighbors=5)\n",
    "# knn.fit(X_train_scaled, y_train)\n",
    "\n",
    "# #test model\n",
    "# print(f\"Training Data Score: {knn.score(X_train_scaled, y_train)}\")\n",
    "# print(f\"Testing Data Score: {knn.score(X_test_scaled, y_test)}\\n\")\n",
    "\n",
    "# predictions = knn.predict(X_test)\n",
    "# print(classification_report(y_test, predictions, target_names=target_names))\n",
    "\n",
    "# plot_confusion_matrix(knn, X_test, y_test, cmap=plt.cm.Blues, display_labels=target_names)\n",
    "# plt.show()\n",
    "\n",
    "# feature_names = X.columns\n",
    "# sorted(zip(rf.feature_importances_, feature_names), reverse=True)"
   ]
  },
  {
   "cell_type": "markdown",
   "metadata": {},
   "source": [
    "### Support Vector Machine (SVM)"
   ]
  },
  {
   "cell_type": "code",
   "execution_count": 370,
   "metadata": {},
   "outputs": [],
   "source": [
    "# FULL_df.columns"
   ]
  },
  {
   "cell_type": "code",
   "execution_count": 410,
   "metadata": {},
   "outputs": [
    {
     "name": "stdout",
     "output_type": "stream",
     "text": [
      "Training Data Score: 0.5105895821408128\n",
      "Testing Data Score: 0.5351629502572899\n",
      "\n",
      "               precision    recall  f1-score   support\n",
      "\n",
      "Average Songs       0.97      0.50      0.67       533\n",
      "  Top 10 Hits       0.14      0.86      0.24        50\n",
      "\n",
      "     accuracy                           0.54       583\n",
      "    macro avg       0.56      0.68      0.45       583\n",
      " weighted avg       0.90      0.54      0.63       583\n",
      "\n"
     ]
    },
    {
     "data": {
      "image/png": "[encoded data removed]",
      "text/plain": [
       "<Figure size 432x288 with 2 Axes>"
      ]
     },
     "metadata": {
      "needs_background": "light"
     },
     "output_type": "display_data"
    }
   ],
   "source": [
    "from sklearn.svm import SVC \n",
    "\n",
    "model = SVC(kernel='linear', class_weight='balanced')\n",
    "\n",
    "# Unfortunately for this we needed to decrease the dimensions for it to finish running\n",
    "X_prime = X.drop(['artist popularity', 'artist followers', \n",
    "                  'pop', 'rap', 'hiphop', 'rock', 'rnb', 'country', 'mellow', 'edm', 'latin'], axis=1)\n",
    "X_prime_train, X_prime_test, y_train, y_test = train_test_split(X_prime, y, random_state=rs, stratify=y)\n",
    "\n",
    "#train model\n",
    "model.fit(X_prime_train, y_train)\n",
    "\n",
    "#test model\n",
    "print(f\"Training Data Score: {model.score(X_prime_train, y_train)}\")\n",
    "print(f\"Testing Data Score: {model.score(X_prime_test, y_test)}\\n\")\n",
    "\n",
    "predictions = model.predict(X_prime_test)\n",
    "print(classification_report(y_test, predictions, target_names=target_names))\n",
    "\n",
    "plot_confusion_matrix(model, X_prime_test, y_test, cmap=plt.cm.Blues, display_labels=target_names)\n",
    "plt.show()"
   ]
  },
  {
   "cell_type": "markdown",
   "metadata": {},
   "source": [
    "### <font color=grey>~~GridSearchCV~~</font>"
   ]
  },
  {
   "cell_type": "code",
   "execution_count": null,
   "metadata": {},
   "outputs": [],
   "source": [
    "# Create the GridSearch estimator along with a parameter object containing the values to adjust\n",
    "from sklearn.model_selection import GridSearchCV\n",
    "param_grid = {'C': [1, 5, 10], 'gamma': [0.0001, 0.001, 0.01]}\n",
    "grid = GridSearchCV(model, param_grid, verbose=3)\n",
    "\n",
    "# Fit the model using the grid search estimator. \n",
    "grid.fit(X_prime_train, y_train)\n",
    "\n",
    "# List the best parameters for this dataset\n",
    "print(grid.best_params_)\n",
    "\n",
    "# List the best score\n",
    "print(grid.best_score_)\n",
    "\n",
    "# Make predictions with the hypertuned model\n",
    "predictions = grid.predict(X_prime_test)\n",
    "\n",
    "# Calculate classification report\n",
    "print(classification_report(y_test, predictions, target_names=target_names))\n",
    "\n",
    "plot_confusion_matrix(grid, X_prime_test, y_test, cmap=plt.cm.Blues, display_labels=target_names)\n",
    "plt.show()"
   ]
  },
  {
   "cell_type": "markdown",
   "metadata": {},
   "source": [
    "---\n",
    "# Billboard's Greatest of All Time - <font color=teal>Artist Classification</font>"
   ]
  },
  {
   "cell_type": "code",
   "execution_count": 299,
   "metadata": {},
   "outputs": [
    {
     "name": "stdout",
     "output_type": "stream",
     "text": [
      "Compiling songs 1 through 100 of 1281\n",
      "Compiling songs 101 through 200 of 1281\n",
      "Compiling songs 201 through 300 of 1281\n",
      "Compiling songs 301 through 400 of 1281\n",
      "Compiling songs 401 through 500 of 1281\n",
      "Compiling songs 501 through 600 of 1281\n",
      "Compiling songs 601 through 700 of 1281\n",
      "Compiling songs 701 through 800 of 1281\n",
      "Compiling songs 801 through 900 of 1281\n",
      "Compiling songs 901 through 1000 of 1281\n",
      "Compiling songs 1001 through 1100 of 1281\n",
      "Compiling songs 1101 through 1200 of 1281\n",
      "Compiling songs 1201 through 1300 of 1281\n",
      "---------------------------------------- \n",
      "Complete\n"
     ]
    },
    {
     "data": {
      "text/html": [
       "<div>\n",
       "<style scoped>\n",
       "    .dataframe tbody tr th:only-of-type {\n",
       "        vertical-align: middle;\n",
       "    }\n",
       "\n",
       "    .dataframe tbody tr th {\n",
       "        vertical-align: top;\n",
       "    }\n",
       "\n",
       "    .dataframe thead th {\n",
       "        text-align: right;\n",
       "    }\n",
       "</style>\n",
       "<table border=\"1\" class=\"dataframe\">\n",
       "  <thead>\n",
       "    <tr style=\"text-align: right;\">\n",
       "      <th></th>\n",
       "      <th>song_id</th>\n",
       "      <th>song_name</th>\n",
       "      <th>song_popularity</th>\n",
       "      <th>explicit</th>\n",
       "      <th>artist_id</th>\n",
       "      <th>artist</th>\n",
       "      <th>artist popularity</th>\n",
       "      <th>artist followers</th>\n",
       "      <th>genre</th>\n",
       "      <th>danceability</th>\n",
       "      <th>...</th>\n",
       "      <th>pop</th>\n",
       "      <th>rap</th>\n",
       "      <th>hiphop</th>\n",
       "      <th>rock</th>\n",
       "      <th>rnb</th>\n",
       "      <th>country</th>\n",
       "      <th>mellow</th>\n",
       "      <th>edm</th>\n",
       "      <th>latin</th>\n",
       "      <th>song_encoded</th>\n",
       "    </tr>\n",
       "  </thead>\n",
       "  <tbody>\n",
       "    <tr>\n",
       "      <th>0</th>\n",
       "      <td>4pUUhsc8fmZqnsPaOSU5CP</td>\n",
       "      <td>Fireworks</td>\n",
       "      <td>49</td>\n",
       "      <td>True</td>\n",
       "      <td>3TVXtAsR1Inumwj472S9r4</td>\n",
       "      <td>Drake</td>\n",
       "      <td>98</td>\n",
       "      <td>48112586</td>\n",
       "      <td>[canadian hip hop, canadian pop, hip hop, pop ...</td>\n",
       "      <td>0.560</td>\n",
       "      <td>...</td>\n",
       "      <td>1</td>\n",
       "      <td>1</td>\n",
       "      <td>1</td>\n",
       "      <td>0</td>\n",
       "      <td>0</td>\n",
       "      <td>0</td>\n",
       "      <td>0</td>\n",
       "      <td>0</td>\n",
       "      <td>0</td>\n",
       "      <td>796</td>\n",
       "    </tr>\n",
       "    <tr>\n",
       "      <th>1</th>\n",
       "      <td>3bnVNMCk5FJulcpS7aXJbY</td>\n",
       "      <td>Karaoke</td>\n",
       "      <td>44</td>\n",
       "      <td>False</td>\n",
       "      <td>3TVXtAsR1Inumwj472S9r4</td>\n",
       "      <td>Drake</td>\n",
       "      <td>98</td>\n",
       "      <td>48112586</td>\n",
       "      <td>[canadian hip hop, canadian pop, hip hop, pop ...</td>\n",
       "      <td>0.756</td>\n",
       "      <td>...</td>\n",
       "      <td>1</td>\n",
       "      <td>1</td>\n",
       "      <td>1</td>\n",
       "      <td>0</td>\n",
       "      <td>0</td>\n",
       "      <td>0</td>\n",
       "      <td>0</td>\n",
       "      <td>0</td>\n",
       "      <td>0</td>\n",
       "      <td>616</td>\n",
       "    </tr>\n",
       "    <tr>\n",
       "      <th>2</th>\n",
       "      <td>31FWGQxshq14SCZvvyHae1</td>\n",
       "      <td>The Resistance</td>\n",
       "      <td>45</td>\n",
       "      <td>True</td>\n",
       "      <td>3TVXtAsR1Inumwj472S9r4</td>\n",
       "      <td>Drake</td>\n",
       "      <td>98</td>\n",
       "      <td>48112586</td>\n",
       "      <td>[canadian hip hop, canadian pop, hip hop, pop ...</td>\n",
       "      <td>0.439</td>\n",
       "      <td>...</td>\n",
       "      <td>1</td>\n",
       "      <td>1</td>\n",
       "      <td>1</td>\n",
       "      <td>0</td>\n",
       "      <td>0</td>\n",
       "      <td>0</td>\n",
       "      <td>0</td>\n",
       "      <td>0</td>\n",
       "      <td>0</td>\n",
       "      <td>516</td>\n",
       "    </tr>\n",
       "  </tbody>\n",
       "</table>\n",
       "<p>3 rows × 37 columns</p>\n",
       "</div>"
      ],
      "text/plain": [
       "                  song_id       song_name  song_popularity  explicit  \\\n",
       "0  4pUUhsc8fmZqnsPaOSU5CP       Fireworks               49      True   \n",
       "1  3bnVNMCk5FJulcpS7aXJbY         Karaoke               44     False   \n",
       "2  31FWGQxshq14SCZvvyHae1  The Resistance               45      True   \n",
       "\n",
       "                artist_id artist  artist popularity  artist followers  \\\n",
       "0  3TVXtAsR1Inumwj472S9r4  Drake                 98          48112586   \n",
       "1  3TVXtAsR1Inumwj472S9r4  Drake                 98          48112586   \n",
       "2  3TVXtAsR1Inumwj472S9r4  Drake                 98          48112586   \n",
       "\n",
       "                                               genre  danceability  ...  pop  \\\n",
       "0  [canadian hip hop, canadian pop, hip hop, pop ...         0.560  ...    1   \n",
       "1  [canadian hip hop, canadian pop, hip hop, pop ...         0.756  ...    1   \n",
       "2  [canadian hip hop, canadian pop, hip hop, pop ...         0.439  ...    1   \n",
       "\n",
       "   rap  hiphop  rock  rnb  country  mellow  edm  latin  song_encoded  \n",
       "0    1       1     0    0        0       0    0      0           796  \n",
       "1    1       1     0    0        0       0    0      0           616  \n",
       "2    1       1     0    0        0       0    0      0           516  \n",
       "\n",
       "[3 rows x 37 columns]"
      ]
     },
     "execution_count": 299,
     "metadata": {},
     "output_type": "execute_result"
    }
   ],
   "source": [
    "# New Playlist ID\n",
    "ARTISTS_PLAYLIST_ID = \"42KmFBMaGy21Arc9KzOIL2\"\n",
    "\n",
    "# First we have to gather the total number of tracks in the playlist \n",
    "track_count = sp.user_playlist_tracks(USER_ID, ARTISTS_PLAYLIST_ID, 'total')['total']\n",
    "\n",
    "# Then we calculate the number of times we'll have to call the API\n",
    "iterations = math.ceil(track_count/100)\n",
    "\n",
    "# Finally we begin our loop\n",
    "attributes_df = pd.DataFrame()\n",
    "information_df = pd.DataFrame()\n",
    "for i in range(iterations):\n",
    "    print(f\"Compiling songs {(i)*100+1} through {(i+1)*100} of {track_count}\")\n",
    "    playlist = sp.user_playlist_tracks(USER_ID, ARTISTS_PLAYLIST_ID, None, None, i*100) # documentation - https://spotipy.readthedocs.io/en/2.13.0/\n",
    "    songs = playlist[\"items\"]\n",
    "#     time.sleep(5) # incase this is necessary on larger playlists\n",
    "\n",
    "    track_ids = []\n",
    "    track_names = []\n",
    "    track_popularities = []\n",
    "    track_explicit = []\n",
    "    artist_ids = []\n",
    "    artist_names = []\n",
    "    artist_popularities = []\n",
    "    artist_followers = []\n",
    "    artist_genres = []\n",
    "    \n",
    "    for j in range(len(songs)): \n",
    "        track_ids.append(songs[j][\"track\"][\"id\"])\n",
    "        track_names.append(songs[j][\"track\"][\"name\"])\n",
    "        track_popularities.append(songs[j][\"track\"][\"popularity\"])\n",
    "        track_explicit.append(songs[j][\"track\"][\"explicit\"])\n",
    "        artist_names.append(songs[j][\"track\"][\"artists\"][0][\"name\"])\n",
    "        \n",
    "        artist_id = songs[j][\"track\"][\"artists\"][0][\"id\"]\n",
    "        artist_ids.append(artist_id)\n",
    "        artist = sp.artist(artist_id)\n",
    "        artist_popularities.append(artist['popularity'])\n",
    "        artist_followers.append(artist['followers']['total'])\n",
    "        artist_genres.append(artist['genres'])\n",
    "\n",
    "        \n",
    "    features = sp.audio_features(track_ids)\n",
    "    att_df = pd.DataFrame(features)\n",
    "    info_df = pd.DataFrame({\"song_id\":track_ids, \n",
    "                            \"song_name\":track_names, \n",
    "                            \"song_popularity\":track_popularities,\n",
    "                            \"explicit\":track_explicit,\n",
    "                            \"artist_id\":artist_ids, \n",
    "                            \"artist\": artist_names, \n",
    "                            \"artist popularity\": artist_popularities,\n",
    "                            \"artist followers\": artist_followers,\n",
    "                            \"genre\": artist_genres})\n",
    "    \n",
    "    attributes_df = attributes_df.append(att_df, ignore_index=True)\n",
    "    information_df = information_df.append(info_df, ignore_index=True)\n",
    "\n",
    "ARTISTS_df = information_df.merge(attributes_df, left_on=\"song_id\", right_on=\"id\")\n",
    "ARTISTS_df = ARTISTS_df.drop_duplicates(['song_id'])\n",
    "ARTISTS_df.reset_index(inplace=True, drop=True)\n",
    "# from sklearn.preprocessing import LabelEncoder\n",
    "# encode = LabelEncoder()\n",
    "ARTISTS_df['song_encoded'] = encode.fit_transform(ARTISTS_df['song_id'])\n",
    "print(\"-\"*40,\"\\nComplete\")\n",
    "\n",
    "pop = [0]*len(ARTISTS_df.index)\n",
    "rap = [0]*len(ARTISTS_df.index)\n",
    "rnb = [0]*len(ARTISTS_df.index)\n",
    "edm = [0]*len(ARTISTS_df.index)\n",
    "rock = [0]*len(ARTISTS_df.index)\n",
    "latin = [0]*len(ARTISTS_df.index)\n",
    "hiphop = [0]*len(ARTISTS_df.index)\n",
    "mellow = [0]*len(ARTISTS_df.index)\n",
    "country = [0]*len(ARTISTS_df.index)\n",
    "\n",
    "for i in range(len(ARTISTS_df[\"genre\"])):\n",
    "    for item in ARTISTS_df[\"genre\"][i]:\n",
    "        if ((\"edm\" in item) or (\"dance\" in item) or (\"vapor\" in item) or (\"techno\" in item) or (\"electro\" in item) or (\"brostep\" in item) or (\"complextro\" in item)) and ((\"dancehall\" not in item) and (\"dance pop\" not in item)):\n",
    "            edm[i]=1\n",
    "        if ((\"rock\" in item) or (\"punk\" in item) or (\"metal\" in item) or (\"indie\" in item) or (\"grunge\" in item) or (\"baroque\" in item) or (\"permanent wave\" in item)):\n",
    "            rock[i]=1\n",
    "        if (\"pop\" in item) and ((\"punk\" not in item) and (\"rock\" not in item) and (\"baroque\" not in item) and (\"dance pop\" not in item) and (\"indie poptimism\" not in item)):\n",
    "            pop[i]=1\n",
    "        if ((\"hip\" in item) or (\"hop\" in item) or (\"dancehall\" in item) or (\"new jack swing\" in item)):\n",
    "            hiphop[i]=1\n",
    "        if ((\"r&b\"in item) or (\"soul\"in item) or (\"motown\"in item) or (\"quiet storm\" in item)):\n",
    "            rnb[i]=1\n",
    "        if ((\"rap\" in item) or (\"urban\" in item)) and (\"vapor\" not in item):\n",
    "            rap[i]=1\n",
    "        if ((\"country\"in item) or (\"lilith\" in item)):\n",
    "            country[i]=1\n",
    "        if \"mellow\" in item:\n",
    "            mellow[i]=1\n",
    "        if \"latin\" in item:\n",
    "            latin[i]=1\n",
    "\n",
    "ARTISTS_df[\"pop\"] = pop\n",
    "ARTISTS_df[\"rap\"] = rap\n",
    "ARTISTS_df[\"hiphop\"] = hiphop\n",
    "ARTISTS_df[\"rock\"] = rock\n",
    "ARTISTS_df[\"rnb\"] = rnb\n",
    "ARTISTS_df[\"country\"] = country\n",
    "ARTISTS_df[\"mellow\"] = mellow\n",
    "ARTISTS_df[\"edm\"] = edm\n",
    "ARTISTS_df[\"latin\"] = latin\n",
    "\n",
    "ARTISTS_df.head(3)"
   ]
  },
  {
   "cell_type": "code",
   "execution_count": 379,
   "metadata": {},
   "outputs": [
    {
     "data": {
      "text/plain": [
       "Drake            164\n",
       "Lady Gaga         95\n",
       "The Weeknd        95\n",
       "J Balvin          94\n",
       "DaBaby            82\n",
       "Justin Bieber     78\n",
       "Maroon 5          76\n",
       "Ariana Grande     67\n",
       "Nicki Minaj       62\n",
       "Juice WRLD        61\n",
       "Ozuna             54\n",
       "Ed Sheeran        54\n",
       "Post Malone       53\n",
       "Halsey            48\n",
       "Travis Scott      46\n",
       "Khalid            39\n",
       "Dua Lipa          31\n",
       "Marshmello        31\n",
       "Harry Styles      22\n",
       "Future            16\n",
       "Fuego              2\n",
       "Silk City          1\n",
       "Skrillex           1\n",
       "Jessie J           1\n",
       "Adam Levine        1\n",
       "Omar LinX          1\n",
       "Young Thug         1\n",
       "will.i.am          1\n",
       "Martin Garrix      1\n",
       "MIKA               1\n",
       "Sean Paul          1\n",
       "Calvin Harris      1\n",
       "Name: artist, dtype: int64"
      ]
     },
     "execution_count": 379,
     "metadata": {},
     "output_type": "execute_result"
    }
   ],
   "source": [
    "ARTISTS_df['artist'].value_counts().head(50)"
   ]
  },
  {
   "cell_type": "code",
   "execution_count": 310,
   "metadata": {},
   "outputs": [],
   "source": [
    "# ARTISTS_df[ARTISTS_df.artist=='Future']"
   ]
  },
  {
   "cell_type": "code",
   "execution_count": 398,
   "metadata": {},
   "outputs": [
    {
     "name": "stdout",
     "output_type": "stream",
     "text": [
      "Who is your favorite artist?  justin bieber\n",
      "Great, let's see how easy it is to classify a Justin Bieber song!\n"
     ]
    }
   ],
   "source": [
    "# Choose an artist\n",
    "chosen_artist = input(\"Who is your favorite artist?  \").title()\n",
    "\n",
    "# if chosen_artist in list(ARTISTS_df.artist):\n",
    "if chosen_artist in list(ARTISTS_df['artist'].value_counts().keys())[:100]:\n",
    "    print(f\"Great, let's see how easy it is to classify a {chosen_artist} song!\")\n",
    "    analyze = True\n",
    "else:\n",
    "    print(f\"Sorry, we don't have enough data about them! \\nI guess Billboard doesn't consider {chosen_artist} to be one of the 100 greatest of all time...\")\n",
    "    analyze = False\n",
    "    \n",
    "if analyze:\n",
    "    \n",
    "    #Set up data\n",
    "    ARTISTS_df['chosen'] = np.where(ARTISTS_df.artist == chosen_artist, 1, 0)\n",
    "\n",
    "    # Assign X (data) and y (target)\n",
    "    X = ARTISTS_df.drop(['song_id', 'song_name',\n",
    "                         'artist_id', 'artist', 'artist popularity', 'artist followers', 'genre', \n",
    "                         'type', 'id', 'uri', 'track_href', 'analysis_url', \n",
    "                         'chosen'], axis=1)\n",
    "#     X = X.drop(['pop', 'rap', 'hiphop', 'rock', 'rnb', 'country', 'mellow', 'edm', 'latin'], axis=1)\n",
    "\n",
    "    y = ARTISTS_df['chosen']\n",
    "    # print(X.shape, y.shape)\n",
    "    \n",
    "    # Name our negatives and positives\n",
    "    target_names = [\"Other Greats\", chosen_artist]\n",
    "\n",
    "    # Select random state for Notebook ##########################################\n",
    "    rs = 42\n",
    "\n",
    "    #Split data\n",
    "    from sklearn.model_selection import train_test_split\n",
    "    X_train, X_test, y_train, y_test = train_test_split(X, y, random_state=rs, stratify=y)\n",
    "\n",
    "    # Place best classifier here ################################################\n",
    "    #############################################################################\n",
    "    #############################################################################\n",
    "    #############################################################################"
   ]
  },
  {
   "cell_type": "markdown",
   "metadata": {},
   "source": [
    "### Decision Tree"
   ]
  },
  {
   "cell_type": "code",
   "execution_count": 407,
   "metadata": {},
   "outputs": [
    {
     "name": "stdout",
     "output_type": "stream",
     "text": [
      "Training Data Score: 1.0\n",
      "Testing Data Score: 0.9314641744548287\n",
      "\n",
      "               precision    recall  f1-score   support\n",
      "\n",
      " Other Greats       0.96      0.97      0.96       301\n",
      "Justin Bieber       0.44      0.40      0.42        20\n",
      "\n",
      "     accuracy                           0.93       321\n",
      "    macro avg       0.70      0.68      0.69       321\n",
      " weighted avg       0.93      0.93      0.93       321\n",
      "\n"
     ]
    },
    {
     "data": {
      "image/png": "[encoded data removed]",
      "text/plain": [
       "<Figure size 432x288 with 2 Axes>"
      ]
     },
     "metadata": {
      "needs_background": "light"
     },
     "output_type": "display_data"
    },
    {
     "data": {
      "text/plain": [
       "[(0.3313653136531489, 'explicit'),\n",
       " (0.11414750685969274, 'latin'),\n",
       " (0.10412631883249965, 'loudness'),\n",
       " (0.09111409601187968, 'rock'),\n",
       " (0.07552679214375166, 'rnb'),\n",
       " (0.042953591303702396, 'liveness'),\n",
       " (0.03453835077658317, 'danceability'),\n",
       " (0.03435443229452582, 'valence'),\n",
       " (0.029579844696321904, 'rap'),\n",
       " (0.024174050526162425, 'energy')]"
      ]
     },
     "execution_count": 407,
     "metadata": {},
     "output_type": "execute_result"
    }
   ],
   "source": [
    "from sklearn import tree\n",
    "clf = tree.DecisionTreeClassifier(class_weight = 'balanced')\n",
    "\n",
    "#train model\n",
    "clf = clf.fit(X_train, y_train)\n",
    "\n",
    "#test model\n",
    "print(f\"Training Data Score: {clf.score(X_train, y_train)}\")\n",
    "print(f\"Testing Data Score: {clf.score(X_test, y_test)}\\n\")\n",
    "\n",
    "predictions = clf.predict(X_test)\n",
    "print(classification_report(y_test, predictions, target_names=target_names))\n",
    "\n",
    "plot_confusion_matrix(clf, X_test, y_test, cmap=plt.cm.Blues, display_labels=target_names)\n",
    "plt.show()\n",
    "\n",
    "feature_names = X.columns\n",
    "sorted(zip(clf.feature_importances_, feature_names), reverse=True)[:10]"
   ]
  },
  {
   "cell_type": "code",
   "execution_count": 405,
   "metadata": {},
   "outputs": [],
   "source": [
    "def color_false(x):\n",
    "    if x.artist == chosen_artist:\n",
    "        return ['background-color: mistyrose']*2\n",
    "    else:\n",
    "        return ['background-color: honeydew']*2"
   ]
  },
  {
   "cell_type": "code",
   "execution_count": 406,
   "metadata": {},
   "outputs": [
    {
     "data": {
      "text/html": [
       "<style  type=\"text/css\" >\n",
       "    #T_d31a6098_cd66_11ea_befc_64c753db89d6row0_col0 {\n",
       "            background-color:  honeydew;\n",
       "        }    #T_d31a6098_cd66_11ea_befc_64c753db89d6row0_col1 {\n",
       "            background-color:  honeydew;\n",
       "        }    #T_d31a6098_cd66_11ea_befc_64c753db89d6row1_col0 {\n",
       "            background-color:  mistyrose;\n",
       "        }    #T_d31a6098_cd66_11ea_befc_64c753db89d6row1_col1 {\n",
       "            background-color:  mistyrose;\n",
       "        }    #T_d31a6098_cd66_11ea_befc_64c753db89d6row2_col0 {\n",
       "            background-color:  honeydew;\n",
       "        }    #T_d31a6098_cd66_11ea_befc_64c753db89d6row2_col1 {\n",
       "            background-color:  honeydew;\n",
       "        }    #T_d31a6098_cd66_11ea_befc_64c753db89d6row3_col0 {\n",
       "            background-color:  honeydew;\n",
       "        }    #T_d31a6098_cd66_11ea_befc_64c753db89d6row3_col1 {\n",
       "            background-color:  honeydew;\n",
       "        }    #T_d31a6098_cd66_11ea_befc_64c753db89d6row4_col0 {\n",
       "            background-color:  mistyrose;\n",
       "        }    #T_d31a6098_cd66_11ea_befc_64c753db89d6row4_col1 {\n",
       "            background-color:  mistyrose;\n",
       "        }    #T_d31a6098_cd66_11ea_befc_64c753db89d6row5_col0 {\n",
       "            background-color:  mistyrose;\n",
       "        }    #T_d31a6098_cd66_11ea_befc_64c753db89d6row5_col1 {\n",
       "            background-color:  mistyrose;\n",
       "        }    #T_d31a6098_cd66_11ea_befc_64c753db89d6row6_col0 {\n",
       "            background-color:  honeydew;\n",
       "        }    #T_d31a6098_cd66_11ea_befc_64c753db89d6row6_col1 {\n",
       "            background-color:  honeydew;\n",
       "        }    #T_d31a6098_cd66_11ea_befc_64c753db89d6row7_col0 {\n",
       "            background-color:  honeydew;\n",
       "        }    #T_d31a6098_cd66_11ea_befc_64c753db89d6row7_col1 {\n",
       "            background-color:  honeydew;\n",
       "        }    #T_d31a6098_cd66_11ea_befc_64c753db89d6row8_col0 {\n",
       "            background-color:  honeydew;\n",
       "        }    #T_d31a6098_cd66_11ea_befc_64c753db89d6row8_col1 {\n",
       "            background-color:  honeydew;\n",
       "        }    #T_d31a6098_cd66_11ea_befc_64c753db89d6row9_col0 {\n",
       "            background-color:  mistyrose;\n",
       "        }    #T_d31a6098_cd66_11ea_befc_64c753db89d6row9_col1 {\n",
       "            background-color:  mistyrose;\n",
       "        }    #T_d31a6098_cd66_11ea_befc_64c753db89d6row10_col0 {\n",
       "            background-color:  mistyrose;\n",
       "        }    #T_d31a6098_cd66_11ea_befc_64c753db89d6row10_col1 {\n",
       "            background-color:  mistyrose;\n",
       "        }    #T_d31a6098_cd66_11ea_befc_64c753db89d6row11_col0 {\n",
       "            background-color:  mistyrose;\n",
       "        }    #T_d31a6098_cd66_11ea_befc_64c753db89d6row11_col1 {\n",
       "            background-color:  mistyrose;\n",
       "        }    #T_d31a6098_cd66_11ea_befc_64c753db89d6row12_col0 {\n",
       "            background-color:  mistyrose;\n",
       "        }    #T_d31a6098_cd66_11ea_befc_64c753db89d6row12_col1 {\n",
       "            background-color:  mistyrose;\n",
       "        }    #T_d31a6098_cd66_11ea_befc_64c753db89d6row13_col0 {\n",
       "            background-color:  mistyrose;\n",
       "        }    #T_d31a6098_cd66_11ea_befc_64c753db89d6row13_col1 {\n",
       "            background-color:  mistyrose;\n",
       "        }    #T_d31a6098_cd66_11ea_befc_64c753db89d6row14_col0 {\n",
       "            background-color:  honeydew;\n",
       "        }    #T_d31a6098_cd66_11ea_befc_64c753db89d6row14_col1 {\n",
       "            background-color:  honeydew;\n",
       "        }    #T_d31a6098_cd66_11ea_befc_64c753db89d6row15_col0 {\n",
       "            background-color:  mistyrose;\n",
       "        }    #T_d31a6098_cd66_11ea_befc_64c753db89d6row15_col1 {\n",
       "            background-color:  mistyrose;\n",
       "        }    #T_d31a6098_cd66_11ea_befc_64c753db89d6row16_col0 {\n",
       "            background-color:  mistyrose;\n",
       "        }    #T_d31a6098_cd66_11ea_befc_64c753db89d6row16_col1 {\n",
       "            background-color:  mistyrose;\n",
       "        }    #T_d31a6098_cd66_11ea_befc_64c753db89d6row17_col0 {\n",
       "            background-color:  mistyrose;\n",
       "        }    #T_d31a6098_cd66_11ea_befc_64c753db89d6row17_col1 {\n",
       "            background-color:  mistyrose;\n",
       "        }    #T_d31a6098_cd66_11ea_befc_64c753db89d6row18_col0 {\n",
       "            background-color:  honeydew;\n",
       "        }    #T_d31a6098_cd66_11ea_befc_64c753db89d6row18_col1 {\n",
       "            background-color:  honeydew;\n",
       "        }</style><table id=\"T_d31a6098_cd66_11ea_befc_64c753db89d6\" ><thead>    <tr>        <th class=\"col_heading level0 col0\" >song_name</th>        <th class=\"col_heading level0 col1\" >artist</th>    </tr></thead><tbody>\n",
       "                <tr>\n",
       "                                <td id=\"T_d31a6098_cd66_11ea_befc_64c753db89d6row0_col0\" class=\"data row0 col0\" >Fashion!</td>\n",
       "                        <td id=\"T_d31a6098_cd66_11ea_befc_64c753db89d6row0_col1\" class=\"data row0 col1\" >Lady Gaga</td>\n",
       "            </tr>\n",
       "            <tr>\n",
       "                                <td id=\"T_d31a6098_cd66_11ea_befc_64c753db89d6row1_col0\" class=\"data row1 col0\" >Running Over (feat. Lil Dicky)</td>\n",
       "                        <td id=\"T_d31a6098_cd66_11ea_befc_64c753db89d6row1_col1\" class=\"data row1 col1\" >Justin Bieber</td>\n",
       "            </tr>\n",
       "            <tr>\n",
       "                                <td id=\"T_d31a6098_cd66_11ea_befc_64c753db89d6row2_col0\" class=\"data row2 col0\" >Dreams</td>\n",
       "                        <td id=\"T_d31a6098_cd66_11ea_befc_64c753db89d6row2_col1\" class=\"data row2 col1\" >Dua Lipa</td>\n",
       "            </tr>\n",
       "            <tr>\n",
       "                                <td id=\"T_d31a6098_cd66_11ea_befc_64c753db89d6row3_col0\" class=\"data row3 col0\" >Garden</td>\n",
       "                        <td id=\"T_d31a6098_cd66_11ea_befc_64c753db89d6row3_col1\" class=\"data row3 col1\" >Dua Lipa</td>\n",
       "            </tr>\n",
       "            <tr>\n",
       "                                <td id=\"T_d31a6098_cd66_11ea_befc_64c753db89d6row4_col0\" class=\"data row4 col0\" >One Love</td>\n",
       "                        <td id=\"T_d31a6098_cd66_11ea_befc_64c753db89d6row4_col1\" class=\"data row4 col1\" >Justin Bieber</td>\n",
       "            </tr>\n",
       "            <tr>\n",
       "                                <td id=\"T_d31a6098_cd66_11ea_befc_64c753db89d6row5_col0\" class=\"data row5 col0\" >We Are</td>\n",
       "                        <td id=\"T_d31a6098_cd66_11ea_befc_64c753db89d6row5_col1\" class=\"data row5 col1\" >Justin Bieber</td>\n",
       "            </tr>\n",
       "            <tr>\n",
       "                                <td id=\"T_d31a6098_cd66_11ea_befc_64c753db89d6row6_col0\" class=\"data row6 col0\" >Almost Is Never Enough</td>\n",
       "                        <td id=\"T_d31a6098_cd66_11ea_befc_64c753db89d6row6_col1\" class=\"data row6 col1\" >Ariana Grande</td>\n",
       "            </tr>\n",
       "            <tr>\n",
       "                                <td id=\"T_d31a6098_cd66_11ea_befc_64c753db89d6row7_col0\" class=\"data row7 col0\" >New Rules</td>\n",
       "                        <td id=\"T_d31a6098_cd66_11ea_befc_64c753db89d6row7_col1\" class=\"data row7 col1\" >Dua Lipa</td>\n",
       "            </tr>\n",
       "            <tr>\n",
       "                                <td id=\"T_d31a6098_cd66_11ea_befc_64c753db89d6row8_col0\" class=\"data row8 col0\" >Adore You</td>\n",
       "                        <td id=\"T_d31a6098_cd66_11ea_befc_64c753db89d6row8_col1\" class=\"data row8 col1\" >Harry Styles</td>\n",
       "            </tr>\n",
       "            <tr>\n",
       "                                <td id=\"T_d31a6098_cd66_11ea_befc_64c753db89d6row9_col0\" class=\"data row9 col0\" >Out Of Town Girl</td>\n",
       "                        <td id=\"T_d31a6098_cd66_11ea_befc_64c753db89d6row9_col1\" class=\"data row9 col1\" >Justin Bieber</td>\n",
       "            </tr>\n",
       "            <tr>\n",
       "                                <td id=\"T_d31a6098_cd66_11ea_befc_64c753db89d6row10_col0\" class=\"data row10 col0\" >Somebody To Love</td>\n",
       "                        <td id=\"T_d31a6098_cd66_11ea_befc_64c753db89d6row10_col1\" class=\"data row10 col1\" >Justin Bieber</td>\n",
       "            </tr>\n",
       "            <tr>\n",
       "                                <td id=\"T_d31a6098_cd66_11ea_befc_64c753db89d6row11_col0\" class=\"data row11 col0\" >As Long As You Love Me</td>\n",
       "                        <td id=\"T_d31a6098_cd66_11ea_befc_64c753db89d6row11_col1\" class=\"data row11 col1\" >Justin Bieber</td>\n",
       "            </tr>\n",
       "            <tr>\n",
       "                                <td id=\"T_d31a6098_cd66_11ea_befc_64c753db89d6row12_col0\" class=\"data row12 col0\" >No Pressure</td>\n",
       "                        <td id=\"T_d31a6098_cd66_11ea_befc_64c753db89d6row12_col1\" class=\"data row12 col1\" >Justin Bieber</td>\n",
       "            </tr>\n",
       "            <tr>\n",
       "                                <td id=\"T_d31a6098_cd66_11ea_befc_64c753db89d6row13_col0\" class=\"data row13 col0\" >That Should Be Me</td>\n",
       "                        <td id=\"T_d31a6098_cd66_11ea_befc_64c753db89d6row13_col1\" class=\"data row13 col1\" >Justin Bieber</td>\n",
       "            </tr>\n",
       "            <tr>\n",
       "                                <td id=\"T_d31a6098_cd66_11ea_befc_64c753db89d6row14_col0\" class=\"data row14 col0\" >A-YO</td>\n",
       "                        <td id=\"T_d31a6098_cd66_11ea_befc_64c753db89d6row14_col1\" class=\"data row14 col1\" >Lady Gaga</td>\n",
       "            </tr>\n",
       "            <tr>\n",
       "                                <td id=\"T_d31a6098_cd66_11ea_befc_64c753db89d6row15_col0\" class=\"data row15 col0\" >Memphis</td>\n",
       "                        <td id=\"T_d31a6098_cd66_11ea_befc_64c753db89d6row15_col1\" class=\"data row15 col1\" >Justin Bieber</td>\n",
       "            </tr>\n",
       "            <tr>\n",
       "                                <td id=\"T_d31a6098_cd66_11ea_befc_64c753db89d6row16_col0\" class=\"data row16 col0\" >Confirmation</td>\n",
       "                        <td id=\"T_d31a6098_cd66_11ea_befc_64c753db89d6row16_col1\" class=\"data row16 col1\" >Justin Bieber</td>\n",
       "            </tr>\n",
       "            <tr>\n",
       "                                <td id=\"T_d31a6098_cd66_11ea_befc_64c753db89d6row17_col0\" class=\"data row17 col0\" >Runaway Love</td>\n",
       "                        <td id=\"T_d31a6098_cd66_11ea_befc_64c753db89d6row17_col1\" class=\"data row17 col1\" >Justin Bieber</td>\n",
       "            </tr>\n",
       "            <tr>\n",
       "                                <td id=\"T_d31a6098_cd66_11ea_befc_64c753db89d6row18_col0\" class=\"data row18 col0\" >Into You</td>\n",
       "                        <td id=\"T_d31a6098_cd66_11ea_befc_64c753db89d6row18_col1\" class=\"data row18 col1\" >Ariana Grande</td>\n",
       "            </tr>\n",
       "    </tbody></table>"
      ],
      "text/plain": [
       "<pandas.io.formats.style.Styler at 0x7f90fff67f98>"
      ]
     },
     "execution_count": 406,
     "metadata": {},
     "output_type": "execute_result"
    }
   ],
   "source": [
    "Results_df = pd.DataFrame({\"prediction\": predictions, \"actual\": y_test, \"song_encoded\": X_test['song_encoded']}).reset_index(drop=True)\n",
    "# False_Positives_df = Results_df.loc[((Results_df.prediction==1) & (Results_df.actual==0)),:]\n",
    "# False_Negatives_df = Results_df.loc[((Results_df.prediction==0) & (Results_df.actual==1)),:]\n",
    "# pd.concat([False_Positives_df, False_Negatives_df]).merge(ARTISTS_df, on='song_encoded')[['song_name', 'artist']].style.apply(color_false, axis=1)\n",
    "False_df = Results_df.loc[((Results_df.prediction==1)&(Results_df.actual==0))|((Results_df.prediction==0)&(Results_df.actual==1)),:]\n",
    "False_df.merge(ARTISTS_df, on='song_encoded')[['song_name', 'artist']].style.apply(color_false, axis=1).hide_index()"
   ]
  },
  {
   "cell_type": "markdown",
   "metadata": {},
   "source": [
    "### ~~SVM~~"
   ]
  },
  {
   "cell_type": "code",
   "execution_count": 403,
   "metadata": {},
   "outputs": [
    {
     "name": "stdout",
     "output_type": "stream",
     "text": [
      "Training Data Score: 0.2708333333333333\n",
      "Testing Data Score: 0.2523364485981308\n",
      "\n",
      "               precision    recall  f1-score   support\n",
      "\n",
      " Other Greats       0.93      0.22      0.35       301\n",
      "Justin Bieber       0.06      0.75      0.11        20\n",
      "\n",
      "     accuracy                           0.25       321\n",
      "    macro avg       0.49      0.48      0.23       321\n",
      " weighted avg       0.88      0.25      0.34       321\n",
      "\n"
     ]
    },
    {
     "data": {
      "image/png": "[encoded data removed]",
      "text/plain": [
       "<Figure size 432x288 with 2 Axes>"
      ]
     },
     "metadata": {
      "needs_background": "light"
     },
     "output_type": "display_data"
    }
   ],
   "source": [
    "from sklearn.svm import SVC \n",
    "\n",
    "model = SVC(kernel='linear', class_weight='balanced')\n",
    "\n",
    "### Just so that this thing can run...\n",
    "# X_prime = X\n",
    "X_prime = X.drop(['pop', 'rap', 'hiphop', 'rock', 'rnb', 'country', 'mellow', 'edm', 'latin'], axis=1)\n",
    "X_prime_train, X_prime_test, y_train, y_test = train_test_split(X_prime, y, random_state=rs, stratify=y)\n",
    "\n",
    "#train model\n",
    "model.fit(X_prime_train, y_train)\n",
    "\n",
    "#test model\n",
    "print(f\"Training Data Score: {model.score(X_prime_train, y_train)}\")\n",
    "print(f\"Testing Data Score: {model.score(X_prime_test, y_test)}\\n\")\n",
    "\n",
    "predictions = model.predict(X_prime_test)\n",
    "print(classification_report(y_test, predictions, target_names=target_names))\n",
    "\n",
    "plot_confusion_matrix(model, X_prime_test, y_test, cmap=plt.cm.Blues, display_labels=target_names)\n",
    "plt.show()"
   ]
  },
  {
   "cell_type": "markdown",
   "metadata": {},
   "source": [
    "### ~~Random Forest~~"
   ]
  },
  {
   "cell_type": "code",
   "execution_count": 389,
   "metadata": {},
   "outputs": [
    {
     "name": "stdout",
     "output_type": "stream",
     "text": [
      "Training Data Score: 1.0\n",
      "Testing Data Score: 0.956386292834891\n",
      "\n",
      "               precision    recall  f1-score   support\n",
      "\n",
      "Average Songs       0.96      1.00      0.98       308\n",
      "  Top 10 Hits       0.00      0.00      0.00        13\n",
      "\n",
      "     accuracy                           0.96       321\n",
      "    macro avg       0.48      0.50      0.49       321\n",
      " weighted avg       0.92      0.96      0.94       321\n",
      "\n"
     ]
    },
    {
     "data": {
      "image/png": "[encoded data removed]",
      "text/plain": [
       "<Figure size 432x288 with 2 Axes>"
      ]
     },
     "metadata": {
      "needs_background": "light"
     },
     "output_type": "display_data"
    },
    {
     "data": {
      "text/plain": [
       "[(0.10364441273435744, 'song_popularity'),\n",
       " (0.09741402408914891, 'pop'),\n",
       " (0.09614946692053761, 'acousticness'),\n",
       " (0.07133524527605908, 'speechiness'),\n",
       " (0.06925464816861407, 'song_encoded'),\n",
       " (0.06913944813119854, 'liveness'),\n",
       " (0.0676175591644414, 'duration_ms'),\n",
       " (0.06535526790809228, 'danceability'),\n",
       " (0.06317103189047686, 'valence'),\n",
       " (0.05607782883974386, 'loudness'),\n",
       " (0.05215990986435593, 'tempo'),\n",
       " (0.04436189250364463, 'energy'),\n",
       " (0.04106960937670972, 'rap'),\n",
       " (0.024894497117487726, 'key'),\n",
       " (0.02427573198561223, 'hiphop'),\n",
       " (0.02217098281906257, 'instrumentalness'),\n",
       " (0.011166556292614448, 'explicit'),\n",
       " (0.009613951969350873, 'mode'),\n",
       " (0.006528733977814146, 'latin'),\n",
       " (0.0034616365118744687, 'time_signature'),\n",
       " (0.0006510484901120219, 'rnb'),\n",
       " (0.00048651596869111146, 'rock'),\n",
       " (0.0, 'mellow'),\n",
       " (0.0, 'edm'),\n",
       " (0.0, 'country')]"
      ]
     },
     "execution_count": 389,
     "metadata": {},
     "output_type": "execute_result"
    }
   ],
   "source": [
    "from sklearn.ensemble import RandomForestClassifier\n",
    "\n",
    "rf = RandomForestClassifier(n_estimators=200)\n",
    "\n",
    "#train model\n",
    "rf = rf.fit(X_train, y_train)\n",
    "\n",
    "#test model\n",
    "print(f\"Training Data Score: {rf.score(X_train, y_train)}\")\n",
    "print(f\"Testing Data Score: {rf.score(X_test, y_test)}\\n\")\n",
    "\n",
    "predictions = rf.predict(X_test)\n",
    "print(classification_report(y_test, predictions, target_names=target_names))\n",
    "\n",
    "plot_confusion_matrix(rf, X_test, y_test, cmap=plt.cm.Blues, display_labels=target_names)\n",
    "plt.show()\n",
    "\n",
    "feature_names = X.columns\n",
    "sorted(zip(rf.feature_importances_, feature_names), reverse=True)"
   ]
  },
  {
   "cell_type": "markdown",
   "metadata": {},
   "source": [
    "### ~~Logistic Regression~~"
   ]
  },
  {
   "cell_type": "code",
   "execution_count": 402,
   "metadata": {},
   "outputs": [
    {
     "name": "stdout",
     "output_type": "stream",
     "text": [
      "Training Data Score: 0.915625\n",
      "Testing Data Score: 0.9096573208722741\n",
      "\n",
      "               precision    recall  f1-score   support\n",
      "\n",
      " Other Greats       0.94      0.97      0.95       301\n",
      "Justin Bieber       0.00      0.00      0.00        20\n",
      "\n",
      "     accuracy                           0.91       321\n",
      "    macro avg       0.47      0.49      0.48       321\n",
      " weighted avg       0.88      0.91      0.89       321\n",
      "\n"
     ]
    },
    {
     "data": {
      "image/png": "[encoded data removed]",
      "text/plain": [
       "<Figure size 432x288 with 2 Axes>"
      ]
     },
     "metadata": {
      "needs_background": "light"
     },
     "output_type": "display_data"
    }
   ],
   "source": [
    "#create model\n",
    "from sklearn.linear_model import LogisticRegression\n",
    "classifier = LogisticRegression(class_weight = 'balanced')\n",
    "\n",
    "#train model\n",
    "classifier.fit(X_train, y_train)\n",
    "\n",
    "#test model\n",
    "print(f\"Training Data Score: {classifier.score(X_train, y_train)}\")\n",
    "print(f\"Testing Data Score: {classifier.score(X_test, y_test)}\\n\")\n",
    "\n",
    "# Calculate classification report\n",
    "from sklearn.metrics import classification_report\n",
    "predictions = classifier.predict(X_test)\n",
    "print(classification_report(y_test, predictions, target_names=target_names))\n",
    "\n",
    "from sklearn.metrics import plot_confusion_matrix\n",
    "plot_confusion_matrix(classifier, X_test, y_test, cmap=plt.cm.Blues, display_labels=target_names)\n",
    "plt.show()"
   ]
  },
  {
   "cell_type": "code",
   "execution_count": null,
   "metadata": {},
   "outputs": [],
   "source": []
  }
 ],
 "metadata": {
  "kernelspec": {
   "display_name": "Python [conda env:PythonAdv]",
   "language": "python",
   "name": "conda-env-PythonAdv-py"
  },
  "language_info": {
   "codemirror_mode": {
    "name": "ipython",
    "version": 3
   },
   "file_extension": ".py",
   "mimetype": "text/x-python",
   "name": "python",
   "nbconvert_exporter": "python",
   "pygments_lexer": "ipython3",
   "version": "3.6.10"
  }
 },
 "nbformat": 4,
 "nbformat_minor": 2
}
